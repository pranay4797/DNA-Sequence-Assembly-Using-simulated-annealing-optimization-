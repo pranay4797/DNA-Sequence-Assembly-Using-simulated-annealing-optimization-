{
  "nbformat": 4,
  "nbformat_minor": 0,
  "metadata": {
    "colab": {
      "provenance": []
    },
    "kernelspec": {
      "name": "python3",
      "display_name": "Python 3"
    },
    "language_info": {
      "name": "python"
    }
  },
  "cells": [
    {
      "cell_type": "code",
      "source": [
        "sequence1 = \"ATCGTACG\"\n",
        "sequence2 = \"GTTACGTA\"\n",
        "sequence2 = \"CGTACGTA\"\n"
      ],
      "metadata": {
        "id": "SFQitgwhLH1r"
      },
      "execution_count": null,
      "outputs": []
    },
    {
      "cell_type": "code",
      "execution_count": null,
      "metadata": {
        "colab": {
          "base_uri": "https://localhost:8080/"
        },
        "id": "rqV_5CNmKpSH",
        "outputId": "ca2bfda3-08f7-4413-e9c6-ee7aa25410a2"
      },
      "outputs": [
        {
          "output_type": "execute_result",
          "data": {
            "text/plain": [
              "-0.9559937503105924"
            ]
          },
          "metadata": {},
          "execution_count": 2
        }
      ],
      "source": [
        "import numpy as np\n",
        "\n",
        "def dna_to_numeric(sequence):\n",
        "    \"\"\"Convert a DNA sequence to a numeric sequence.\"\"\"\n",
        "    mapping = {'A': 1, 'T': 2, 'C': 3, 'G': 4}\n",
        "    return np.array([mapping[nucleotide] for nucleotide in sequence])\n",
        "\n",
        "def pearson_correlation(sequence1, sequence2):\n",
        "    \"\"\"Calculate the Pearson correlation coefficient between two DNA sequences.\"\"\"\n",
        "    num_seq1 = dna_to_numeric(sequence1)\n",
        "    num_seq2 = dna_to_numeric(sequence2)\n",
        "    return np.corrcoef(num_seq1, num_seq2)[0, 1]\n",
        "\n",
        "# Example sequences\n",
        "sequence1 = \"ATCGTACG\"\n",
        "sequence2 = \"GTTACGTA\"\n",
        "\n",
        "# Calculate Pearson correlation coefficient\n",
        "correlation = pearson_correlation(sequence1, sequence2)\n",
        "correlation"
      ]
    },
    {
      "cell_type": "code",
      "source": [
        "# Define example sequences\n",
        "sequences = [\"ATCGTACG\", \"GTTACGTA\", \"CGTACGTA\"]\n",
        "\n",
        "# Construct the distance matrix\n",
        "num_sequences = len(sequences)\n",
        "distance_matrix = np.zeros((num_sequences, num_sequences))\n",
        "\n",
        "for i in range(num_sequences):\n",
        "    for j in range(num_sequences):\n",
        "        if i != j:\n",
        "            # We use 1 minus absolute value of correlation to ensure non-negative distances\n",
        "            # and that a higher correlation results in a shorter distance.\n",
        "            distance_matrix[i, j] = 1 - abs(pearson_correlation(sequences[i], sequences[j]))\n",
        "\n",
        "distance_matrix"
      ],
      "metadata": {
        "colab": {
          "base_uri": "https://localhost:8080/"
        },
        "id": "NgdIGSgRKrSV",
        "outputId": "e6bb5771-babb-4d79-c480-f847b6a21a28"
      },
      "execution_count": null,
      "outputs": [
        {
          "output_type": "execute_result",
          "data": {
            "text/plain": [
              "array([[0.        , 0.04400625, 0.1       ],\n",
              "       [0.04400625, 0.        , 0.24526809],\n",
              "       [0.1       , 0.24526809, 0.        ]])"
            ]
          },
          "metadata": {},
          "execution_count": 3
        }
      ]
    },
    {
      "cell_type": "code",
      "source": [
        "def construct_quadratic_form(distance_matrix):\n",
        "    \"\"\"Construct the quadratic form Q for the given distance matrix.\"\"\"\n",
        "    num_sequences = len(distance_matrix)\n",
        "\n",
        "    # Initialize Q as a dictionary {(i, j): value}\n",
        "    Q = {}\n",
        "\n",
        "    # Populate Q using the distance matrix\n",
        "    for i in range(num_sequences):\n",
        "        for j in range(num_sequences):\n",
        "            for k in range(num_sequences):\n",
        "                for l in range(num_sequences):\n",
        "                    if i < k:\n",
        "                        key = (i * num_sequences + j, k * num_sequences + l)\n",
        "                        if j == l:\n",
        "                            Q[key] = Q.get(key, 0) + distance_matrix[i][k]\n",
        "                        if j != l and i == k:\n",
        "                            Q[key] = Q.get(key, 0) + 2 * distance_matrix[i][j]\n",
        "\n",
        "    # We want to minimize the objective function, so we negate Q\n",
        "    for key in Q:\n",
        "        Q[key] = -Q[key]\n",
        "\n",
        "    return Q\n",
        "\n",
        "# Construct the quadratic form Q based on the distance matrix\n",
        "Q = construct_quadratic_form(distance_matrix)\n",
        "Q"
      ],
      "metadata": {
        "colab": {
          "base_uri": "https://localhost:8080/"
        },
        "id": "vOzE_J1UKvtO",
        "outputId": "f213fb91-8ce1-48d8-d741-9831627f2aa9"
      },
      "execution_count": null,
      "outputs": [
        {
          "output_type": "execute_result",
          "data": {
            "text/plain": [
              "{(0, 3): -0.044006249689407584,\n",
              " (0, 6): -0.09999999999999998,\n",
              " (1, 4): -0.044006249689407584,\n",
              " (1, 7): -0.09999999999999998,\n",
              " (2, 5): -0.044006249689407584,\n",
              " (2, 8): -0.09999999999999998,\n",
              " (3, 6): -0.2452680918600585,\n",
              " (4, 7): -0.2452680918600585,\n",
              " (5, 8): -0.2452680918600585}"
            ]
          },
          "metadata": {},
          "execution_count": 4
        }
      ]
    },
    {
      "cell_type": "code",
      "source": [
        "import math\n",
        "import random\n",
        "\n",
        "def cost(solution, distance_matrix):\n",
        "    \"\"\"Compute the cost of a given solution based on the distance matrix.\"\"\"\n",
        "    return sum(distance_matrix[solution[i]][solution[i + 1]] for i in range(len(solution) - 1))\n",
        "\n",
        "def simulated_annealing(distance_matrix, initial_temperature, cooling_rate, num_iterations):\n",
        "    \"\"\"Approximate a solution using the Simulated Annealing algorithm.\"\"\"\n",
        "    num_sequences = len(distance_matrix)\n",
        "\n",
        "    # Start with a random solution\n",
        "    current_solution = list(range(num_sequences))\n",
        "    random.shuffle(current_solution)\n",
        "    current_cost = cost(current_solution, distance_matrix)\n",
        "\n",
        "    best_solution = current_solution[:]\n",
        "    best_cost = current_cost\n",
        "\n",
        "    temperature = initial_temperature\n",
        "\n",
        "    for iteration in range(num_iterations):\n",
        "        # Generate a neighboring solution by swapping two sequences\n",
        "        i, j = random.sample(range(num_sequences), 2)\n",
        "        neighbor_solution = current_solution[:]\n",
        "        neighbor_solution[i], neighbor_solution[j] = neighbor_solution[j], neighbor_solution[i]\n",
        "        neighbor_cost = cost(neighbor_solution, distance_matrix)\n",
        "\n",
        "        # Calculate cost difference\n",
        "        cost_diff = neighbor_cost - current_cost\n",
        "\n",
        "        # Determine if neighbor solution should be accepted\n",
        "        if cost_diff < 0 or random.random() < math.exp(-cost_diff / temperature):\n",
        "            current_solution, current_cost = neighbor_solution, neighbor_cost\n",
        "\n",
        "            # Update best solution\n",
        "            if current_cost < best_cost:\n",
        "                best_solution, best_cost = current_solution, current_cost\n",
        "\n",
        "        # Reduce the temperature\n",
        "        temperature *= cooling_rate\n",
        "\n",
        "    return best_solution, best_cost\n",
        "\n",
        "# Parameters for the Simulated Annealing algorithm\n",
        "initial_temperature = 100\n",
        "cooling_rate = 0.995\n",
        "num_iterations = 10000\n",
        "\n",
        "# Run the Simulated Annealing algorithm\n",
        "solution, solution_cost = simulated_annealing(distance_matrix, initial_temperature, cooling_rate, num_iterations)\n",
        "solution, solution_cost"
      ],
      "metadata": {
        "colab": {
          "base_uri": "https://localhost:8080/"
        },
        "id": "IimTDyD1K0tb",
        "outputId": "3e3ce28b-cd7b-4135-84aa-94a7838deca7"
      },
      "execution_count": null,
      "outputs": [
        {
          "output_type": "execute_result",
          "data": {
            "text/plain": [
              "([2, 0, 1], 0.14400624968940756)"
            ]
          },
          "metadata": {},
          "execution_count": 5
        }
      ]
    },
    {
      "cell_type": "markdown",
      "source": [
        "improved simulated annealing"
      ],
      "metadata": {
        "id": "V7eiLeLpLTDG"
      }
    },
    {
      "cell_type": "code",
      "source": [
        "def advanced_neighbor(solution):\n",
        "    \"\"\"Generate a neighboring solution using an advanced strategy.\"\"\"\n",
        "    # With a 50% probability, use the swap strategy\n",
        "    if random.random() < 0.5:\n",
        "        i, j = random.sample(range(len(solution)), 2)\n",
        "        neighbor_solution = solution[:]\n",
        "        neighbor_solution[i], neighbor_solution[j] = neighbor_solution[j], neighbor_solution[i]\n",
        "    # Otherwise, use the reverse subsequence strategy\n",
        "    else:\n",
        "        i, j = sorted(random.sample(range(len(solution)), 2))\n",
        "        neighbor_solution = solution[:i] + solution[i:j+1][::-1] + solution[j+1:]\n",
        "    return neighbor_solution\n",
        "\n",
        "def improved_simulated_annealing(distance_matrix, initial_temperature, cooling_rate, num_iterations, num_runs):\n",
        "    \"\"\"An improved version of the Simulated Annealing algorithm.\"\"\"\n",
        "    best_solution = None\n",
        "    best_cost = float('inf')\n",
        "\n",
        "    for run in range(num_runs):\n",
        "        # Initial random solution\n",
        "        current_solution = list(range(len(distance_matrix)))\n",
        "        random.shuffle(current_solution)\n",
        "        current_cost = cost(current_solution, distance_matrix)\n",
        "\n",
        "        temperature = initial_temperature\n",
        "\n",
        "        for iteration in range(num_iterations):\n",
        "            # Generate a neighboring solution using the advanced strategy\n",
        "            neighbor_solution = advanced_neighbor(current_solution)\n",
        "            neighbor_cost = cost(neighbor_solution, distance_matrix)\n",
        "\n",
        "            # Calculate cost difference\n",
        "            cost_diff = neighbor_cost - current_cost\n",
        "\n",
        "            # Determine if neighbor solution should be accepted\n",
        "            if cost_diff < 0 or random.random() < math.exp(-cost_diff / temperature):\n",
        "                current_solution, current_cost = neighbor_solution, neighbor_cost\n",
        "\n",
        "            # Reduce the temperature\n",
        "            temperature *= cooling_rate\n",
        "\n",
        "        # Update the best solution from all runs\n",
        "        if current_cost < best_cost:\n",
        "            best_solution, best_cost = current_solution, current_cost\n",
        "\n",
        "    return best_solution, best_cost\n",
        "\n",
        "# Parameters for the improved Simulated Annealing algorithm\n",
        "num_runs = 100\n",
        "\n",
        "# Run the improved Simulated Annealing algorithm\n",
        "improved_solution, improved_solution_cost = improved_simulated_annealing(\n",
        "    distance_matrix, initial_temperature, cooling_rate, num_iterations, num_runs)\n",
        "improved_solution, improved_solution_cost"
      ],
      "metadata": {
        "colab": {
          "base_uri": "https://localhost:8080/"
        },
        "id": "nMF_ygkBLFLw",
        "outputId": "16b488c0-e6cf-4313-e745-ef361c5330db"
      },
      "execution_count": null,
      "outputs": [
        {
          "output_type": "execute_result",
          "data": {
            "text/plain": [
              "([1, 0, 2], 0.14400624968940756)"
            ]
          },
          "metadata": {},
          "execution_count": 7
        }
      ]
    }
  ]
}